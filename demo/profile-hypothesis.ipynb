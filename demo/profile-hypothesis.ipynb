{
 "cells": [
  {
   "cell_type": "code",
   "execution_count": 1,
   "metadata": {},
   "outputs": [
    {
     "name": "stderr",
     "output_type": "stream",
     "text": [
      "/home/ritsuko/ai/nlp/vec2text/.venv/lib/python3.10/site-packages/tqdm/auto.py:21: TqdmWarning: IProgress not found. Please update jupyter and ipywidgets. See https://ipywidgets.readthedocs.io/en/stable/user_install.html\n",
      "  from .autonotebook import tqdm as notebook_tqdm\n",
      "/home/ritsuko/ai/nlp/vec2text/.venv/lib/python3.10/site-packages/accelerate/accelerator.py:436: FutureWarning: Passing the following arguments to `Accelerator` is deprecated and will be removed in version 1.0 of Accelerate: dict_keys(['dispatch_batches', 'split_batches', 'even_batches', 'use_seedable_sampler']). Please pass an `accelerate.DataLoaderConfiguration` instead: \n",
      "dataloader_config = DataLoaderConfiguration(dispatch_batches=None, split_batches=False, even_batches=True, use_seedable_sampler=True)\n",
      "  warnings.warn(\n",
      "/home/ritsuko/ai/nlp/vec2text/.venv/lib/python3.10/site-packages/accelerate/accelerator.py:436: FutureWarning: Passing the following arguments to `Accelerator` is deprecated and will be removed in version 1.0 of Accelerate: dict_keys(['dispatch_batches', 'split_batches', 'even_batches', 'use_seedable_sampler']). Please pass an `accelerate.DataLoaderConfiguration` instead: \n",
      "dataloader_config = DataLoaderConfiguration(dispatch_batches=None, split_batches=False, even_batches=True, use_seedable_sampler=True)\n",
      "  warnings.warn(\n"
     ]
    }
   ],
   "source": [
    "import torch\n",
    "from dotenv import load_dotenv\n",
    "\n",
    "import vec2text \n",
    "from vec2text.utils import get_embeddings_openai_vanilla\n",
    "\n",
    "load_dotenv()\n",
    "\n",
    "def compute_cosine_similarity(embeddings1, embeddings2):\n",
    "    return torch.nn.functional.cosine_similarity(embeddings1, embeddings2, dim=1)\n",
    "\n",
    "corrector = vec2text.load_pretrained_corrector(\"text-embedding-ada-002\")\n"
   ]
  },
  {
   "cell_type": "code",
   "execution_count": 2,
   "metadata": {},
   "outputs": [],
   "source": [
    "\n",
    "text = \"Elizabeth II (Elizabeth Alexandra Mary; 21 April 1926 – 8 September 2022) was Queen of the United Kingdom and other Commonwealth realms from 6 February 1952 until her death in 2022.\"\n",
    "\n",
    "embed_text = get_embeddings_openai_vanilla(text, model=\"text-embedding-ada-002\")\n",
    "embed_text = torch.Tensor(embed_text).cuda()\n"
   ]
  },
  {
   "cell_type": "code",
   "execution_count": 3,
   "metadata": {},
   "outputs": [
    {
     "name": "stdout",
     "output_type": "stream",
     "text": [
      "['Elizabeth II (II) was Queen of England and other Commonwealth monarchies; she was baptised on 22 April 1922; Other times she was known as: Queen Elizabeth II', 'her fabled name. Rebelafsa until her death on 6 February 1962, and until her death on 6 February 1967.']\n",
      "running OpenAI on text_list of length 2, first element 'Elizabeth II (II) was Queen of England and other Commonwealth monarchies; she was baptised on 22 April 1922; Other times she was known as: Queen Elizabeth II'\n",
      "['Elizabeth II (22 April 1921 â 21 September 2032) was Queen of the United Kingdom and Commonwealth of England; she was often crowned Queen of other', '6 fables from 1952 until her death. in February 2022.']\n",
      "running OpenAI on text_list of length 2, first element 'Elizabeth II (22 April 1921 â 21 September 2032) was Queen of the United Kingdom and Commonwealth of England; she was often crowned Queen of other'\n",
      "['Elizabeth II (Elizabeth Alexandra; 22 September 1922 â 21 April 2036) was Queen of the United Kingdom and the Commonwealth of England and other', 'realms from 6 February 1952 until her death in 22 February 1962.']\n",
      "running OpenAI on text_list of length 2, first element 'Elizabeth II (Elizabeth Alexandra; 22 September 1922 â 21 April 2036) was Queen of the United Kingdom and the Commonwealth of England and other'\n",
      "['Elizabeth II (Elizabeth Alexandra; 22 April 1922 - 21 September 1924) was Queen of the United Kingdom and the Commonwealth of', 'realms from 6 February 1952 until her death in 2022.']\n",
      "running OpenAI on text_list of length 2, first element 'Elizabeth II (Elizabeth Alexandra; 22 April 1922 - 21 September 1924) was Queen of the United Kingdom and the Commonwealth of'\n",
      "['Elizabeth II (Elizabeth Alexandra; 21 April 1922 - 22 September 1923) was Queen of the United Kingdom and Commonwealth of other', 'spheres from 6 February 1922 until her death in 2022.']\n",
      "running OpenAI on text_list of length 2, first element 'Elizabeth II (Elizabeth Alexandra; 21 April 1922 - 22 September 1923) was Queen of the United Kingdom and Commonwealth of other'\n",
      "['Elizabeth II (Elizabeth Alexandra; 22 September 1922 - 21 April 1923) was Queen of the United Kingdom and, later, of the Commonwealth and other', 'spheres from 6 February 1952 until her death in 2022.']\n",
      "running OpenAI on text_list of length 2, first element 'Elizabeth II (Elizabeth Alexandra; 22 September 1922 - 21 April 1923) was Queen of the United Kingdom and, later, of the Commonwealth and other'\n",
      "['Elizabeth II (Elizabeth Alexandra; 22 September 1922 - 21 April 1923) was Queen of the United Kingdom and other Commonwealth', 'spheres from 6 February 1952 until her death in 2022.']\n",
      "running OpenAI on text_list of length 2, first element 'Elizabeth II (Elizabeth Alexandra; 22 September 1922 - 21 April 1923) was Queen of the United Kingdom and other Commonwealth'\n",
      "['Elizabeth II (Elizabeth Alexandra Mary; 21 September 1922 - 8 April 2036) was Queen of the United Kingdom and other Commonwealth', 'spheres from 6 February 1952 until her death in 2022.']\n",
      "running OpenAI on text_list of length 2, first element 'Elizabeth II (Elizabeth Alexandra Mary; 21 September 1922 - 8 April 2036) was Queen of the United Kingdom and other Commonwealth'\n",
      "['Elizabeth II (Elizabeth Alexandra Mary; 22 September 1922 - 8 April 2022) was Queen of the United Kingdom and other Commonwealth', 'spheres from 6 February 1952 until her death in 2022.']\n",
      "running OpenAI on text_list of length 2, first element 'Elizabeth II (Elizabeth Alexandra Mary; 22 September 1922 - 8 April 2022) was Queen of the United Kingdom and other Commonwealth'\n",
      "['Elizabeth II (Elizabeth Alexandra Mary; 21 September 1921 - 8 April 2036) was Queen of the United Kingdom and other Commonwealth', 'spheres from 6 February 1952 until her death in 2022.']\n",
      "running OpenAI on text_list of length 2, first element 'Elizabeth II (Elizabeth Alexandra Mary; 21 September 1921 - 8 April 2036) was Queen of the United Kingdom and other Commonwealth'\n",
      "['Elizabeth II (Elizabeth Alexandra Mary; 22 September 1922 - 8 April 2022) was Queen of the United Kingdom and other Commonwealth', 'spheres from 6 February 1952 until her death in 2022.']\n",
      "running OpenAI on text_list of length 2, first element 'Elizabeth II (Elizabeth Alexandra Mary; 22 September 1922 - 8 April 2022) was Queen of the United Kingdom and other Commonwealth'\n"
     ]
    }
   ],
   "source": [
    "output_strings, hypothesis_embeddings = vec2text.invert_embeddings_and_return_hypotheses(embed_text, corrector, num_steps=10, sequence_beam_width=1)"
   ]
  },
  {
   "cell_type": "code",
   "execution_count": 3,
   "metadata": {},
   "outputs": [
    {
     "name": "stderr",
     "output_type": "stream",
     "text": [
      "STAGE:2024-04-21 09:50:18 2374:2374 ActivityProfilerController.cpp:314] Completed Stage: Warm Up\n",
      "STAGE:2024-04-21 09:50:39 2374:2374 ActivityProfilerController.cpp:320] Completed Stage: Collection\n",
      "STAGE:2024-04-21 09:50:39 2374:2374 ActivityProfilerController.cpp:324] Completed Stage: Post Processing\n"
     ]
    }
   ],
   "source": [
    "with torch.profiler.profile(\n",
    "    activities=[\n",
    "        torch.profiler.ProfilerActivity.CPU,\n",
    "        torch.profiler.ProfilerActivity.CUDA,\n",
    "    ], record_shapes=True, with_stack=True\n",
    ") as prof:\n",
    "    output_strings, hypothesis_embeddings = vec2text.invert_embeddings_and_return_hypotheses(embed_text, corrector, num_steps=10, sequence_beam_width=4)"
   ]
  },
  {
   "cell_type": "code",
   "execution_count": 4,
   "metadata": {},
   "outputs": [],
   "source": [
    "prof.export_chrome_trace(\"stacktrace-at-10.json\")"
   ]
  },
  {
   "cell_type": "code",
   "execution_count": null,
   "metadata": {},
   "outputs": [],
   "source": [
    "\n",
    "print(\"Original text: \" + text)\n",
    "\n",
    "for i, hypothesis_embedding in enumerate(hypothesis_embeddings):\n",
    "    print(f\"Hypothesis string at step {str(i)}: \" + output_strings[i][0])\n",
    "    similarity = compute_cosine_similarity(embed_text, hypothesis_embedding)\n",
    "    print(f\"Cosine similarity to original: {similarity.item()}\")"
   ]
  }
 ],
 "metadata": {
  "kernelspec": {
   "display_name": ".venv",
   "language": "python",
   "name": "python3"
  },
  "language_info": {
   "codemirror_mode": {
    "name": "ipython",
    "version": 3
   },
   "file_extension": ".py",
   "mimetype": "text/x-python",
   "name": "python",
   "nbconvert_exporter": "python",
   "pygments_lexer": "ipython3",
   "version": "3.10.14"
  }
 },
 "nbformat": 4,
 "nbformat_minor": 2
}
