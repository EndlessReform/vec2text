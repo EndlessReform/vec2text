{
 "cells": [
  {
   "cell_type": "code",
   "execution_count": 20,
   "metadata": {},
   "outputs": [],
   "source": [
    "from functools import partial\n",
    "import hashlib\n",
    "\n",
    "import datasets\n",
    "from dotenv import load_dotenv\n",
    "import tiktoken\n",
    "import torch\n",
    "import vec2text \n",
    "from transformers import AutoTokenizer, AutoModelForCausalLM\n",
    "\n",
    "load_dotenv()\n",
    "\n",
    "def compute_cosine_similarity(embeddings1, embeddings2):\n",
    "    return torch.nn.functional.cosine_similarity(embeddings1, embeddings2, dim=0)\n"
   ]
  },
  {
   "cell_type": "markdown",
   "metadata": {},
   "source": [
    "## Setup for error analysis\n",
    "\n",
    "Let's take the first $n=100$ rows of the precomputed val dataset for MS MARCO."
   ]
  },
  {
   "cell_type": "code",
   "execution_count": 2,
   "metadata": {},
   "outputs": [],
   "source": [
    "N_SAMPLES=100\n",
    "dataset = datasets.load_dataset(\"jxm/msmarco__openai_ada2\")\n",
    "dataset = dataset[\"train\"].select(range(N_SAMPLES))"
   ]
  },
  {
   "cell_type": "code",
   "execution_count": 5,
   "metadata": {},
   "outputs": [],
   "source": [
    "MAX_LENGTH=128\n",
    "HF_MODEL_ID='thesephist/contra-bottleneck-t5-large-wikipedia'\n",
    "\n",
    "tokenizer = AutoTokenizer.from_pretrained(HF_MODEL_ID, model_max_length=MAX_LENGTH)\n",
    "\n",
    "def truncate_text(example):\n",
    "    text_tokens = tokenizer(example[\"text\"])['input_ids']\n",
    "    text_tokens = [passage[:MAX_LENGTH] for passage in text_tokens]\n",
    "    text_list = tokenizer.batch_decode(text_tokens)\n",
    "    example[\"text\"] = text_list\n",
    "    return example"
   ]
  },
  {
   "cell_type": "code",
   "execution_count": 6,
   "metadata": {},
   "outputs": [
    {
     "name": "stderr",
     "output_type": "stream",
     "text": [
      "Map (num_proc=12):   0%|          | 0/100 [00:00<?, ? examples/s]Token indices sequence length is longer than the specified maximum sequence length for this model (147 > 128). Running this sequence through the model will result in indexing errors\n",
      "Token indices sequence length is longer than the specified maximum sequence length for this model (163 > 128). Running this sequence through the model will result in indexing errors\n",
      "Token indices sequence length is longer than the specified maximum sequence length for this model (147 > 128). Running this sequence through the model will result in indexing errors\n",
      "Map (num_proc=12): 100%|██████████| 100/100 [00:00<00:00, 596.79 examples/s]\n"
     ]
    }
   ],
   "source": [
    "dataset = dataset.map(truncate_text, batched=True, batch_size=1024, num_proc=12)"
   ]
  },
  {
   "cell_type": "code",
   "execution_count": 7,
   "metadata": {},
   "outputs": [
    {
     "name": "stderr",
     "output_type": "stream",
     "text": [
      "Map (num_proc=12): 100%|██████████| 100/100 [00:00<00:00, 721.75 examples/s]\n"
     ]
    }
   ],
   "source": [
    "# Assumes no batching\n",
    "def get_text_hash(example):\n",
    "    example[\"source_id\"] = hashlib.md5(example[\"text\"].encode()).hexdigest()\n",
    "    return example\n",
    "    \n",
    "\n",
    "dataset = dataset.map(get_text_hash, batched=False, num_proc=12)"
   ]
  },
  {
   "cell_type": "code",
   "execution_count": 8,
   "metadata": {},
   "outputs": [],
   "source": [
    "dataset = dataset.add_column(name=\"sim\", column=[1] * N_SAMPLES)"
   ]
  },
  {
   "cell_type": "markdown",
   "metadata": {},
   "source": [
    "## Generating samples"
   ]
  },
  {
   "cell_type": "code",
   "execution_count": 9,
   "metadata": {},
   "outputs": [],
   "source": [
    "class BottleneckT5Autoencoder:\n",
    "    def __init__(self, model_path: str, device='cpu'):\n",
    "        self.device = device\n",
    "        self.tokenizer = AutoTokenizer.from_pretrained(model_path, model_max_length=512)\n",
    "        self.model = AutoModelForCausalLM.from_pretrained(model_path, trust_remote_code=True).to(self.device)\n",
    "        self.model.eval()\n",
    "\n",
    "    @torch.no_grad()\n",
    "    def embed(self, text: str) -> torch.FloatTensor:\n",
    "        inputs = self.tokenizer(text, return_tensors='pt').to(self.device)\n",
    "        decoder_inputs = self.tokenizer('', return_tensors='pt').to(self.device)\n",
    "        return self.model(\n",
    "            **inputs,\n",
    "            decoder_input_ids=decoder_inputs['input_ids'],\n",
    "            encode_only=True,\n",
    "        )[0]\n",
    "\n",
    "    @torch.no_grad()\n",
    "    def generate_from_latent(self, latent: torch.FloatTensor, max_length=512, temperature=1.0) -> str:\n",
    "        dummy_text = '.'\n",
    "        dummy = self.embed(dummy_text)\n",
    "        perturb_vector = latent - dummy\n",
    "        self.model.perturb_vector = perturb_vector\n",
    "        input_ids = self.tokenizer(dummy_text, return_tensors='pt').to(self.device).input_ids\n",
    "        output = self.model.generate(\n",
    "            input_ids=input_ids,\n",
    "            max_length=max_length,\n",
    "            do_sample=True,\n",
    "            temperature=temperature,\n",
    "            top_p=0.9,\n",
    "            num_return_sequences=1,\n",
    "        )\n",
    "        return self.tokenizer.decode(output[0], skip_special_tokens=True)"
   ]
  },
  {
   "cell_type": "code",
   "execution_count": 10,
   "metadata": {},
   "outputs": [
    {
     "name": "stderr",
     "output_type": "stream",
     "text": [
      "A new version of the following files was downloaded from https://huggingface.co/thesephist/contra-bottleneck-t5-large-wikipedia:\n",
      "- bottleneck_t5.py\n",
      ". Make sure to double-check they do not contain any added malicious code. To avoid downloading new versions of the code file, you can pin a revision.\n"
     ]
    }
   ],
   "source": [
    "device = 'cuda' if torch.cuda.is_available() else 'cpu'\n",
    "autoencoder = BottleneckT5Autoencoder(model_path=HF_MODEL_ID, device=device)"
   ]
  },
  {
   "cell_type": "code",
   "execution_count": 22,
   "metadata": {},
   "outputs": [],
   "source": [
    "# Get prediction trajectory at n_steps=10 \n",
    "# Assume non-batched\n",
    "def get_reconstruction(example):\n",
    "    original_embedding = autoencoder.embed(example[\"text\"])\n",
    "    reconstructed_text = autoencoder.generate_from_latent(original_embedding)\n",
    "    reencoded_embedding = autoencoder.embed(reconstructed_text)\n",
    "\n",
    "    example[\"embeddings_A\"] = original_embedding\n",
    "    example[\"embeddings_B\"] = reencoded_embedding\n",
    "    example[\"pred\"] = reconstructed_text\n",
    "\n",
    "    # Append to example\n",
    "    example[\"sim\"] = compute_cosine_similarity(original_embedding, reencoded_embedding).item()\n",
    "\n",
    "    return example\n"
   ]
  },
  {
   "cell_type": "code",
   "execution_count": 25,
   "metadata": {},
   "outputs": [
    {
     "name": "stderr",
     "output_type": "stream",
     "text": [
      "Map: 100%|██████████| 100/100 [02:10<00:00,  1.31s/ examples]\n"
     ]
    }
   ],
   "source": [
    "test_dataset = dataset.select(range(100)).map(get_reconstruction, batched=False)"
   ]
  },
  {
   "cell_type": "code",
   "execution_count": 29,
   "metadata": {},
   "outputs": [
    {
     "name": "stderr",
     "output_type": "stream",
     "text": [
      "Map:   0%|          | 0/100 [00:00<?, ? examples/s]/home/ritsuko/ai/nlp/vec2text/.venv/lib/python3.10/site-packages/nltk/translate/bleu_score.py:552: UserWarning: \n",
      "The hypothesis contains 0 counts of 3-gram overlaps.\n",
      "Therefore the BLEU score evaluates to 0, independently of\n",
      "how many N-gram overlaps of lower order it contains.\n",
      "Consider using lower n-gram order or use SmoothingFunction()\n",
      "  warnings.warn(_msg)\n",
      "/home/ritsuko/ai/nlp/vec2text/.venv/lib/python3.10/site-packages/nltk/translate/bleu_score.py:552: UserWarning: \n",
      "The hypothesis contains 0 counts of 4-gram overlaps.\n",
      "Therefore the BLEU score evaluates to 0, independently of\n",
      "how many N-gram overlaps of lower order it contains.\n",
      "Consider using lower n-gram order or use SmoothingFunction()\n",
      "  warnings.warn(_msg)\n",
      "Map: 100%|██████████| 100/100 [00:00<00:00, 1288.19 examples/s]\n"
     ]
    }
   ],
   "source": [
    "from nltk.translate.bleu_score import sentence_bleu\n",
    "\n",
    "test_dataset = test_dataset.select(range(100)).map(lambda example: {**example, \"bleu\": sentence_bleu([example[\"text\"].split()], example[\"pred\"].split())})"
   ]
  },
  {
   "cell_type": "code",
   "execution_count": 30,
   "metadata": {},
   "outputs": [
    {
     "name": "stderr",
     "output_type": "stream",
     "text": [
      "Creating CSV from Arrow format: 100%|██████████| 1/1 [00:00<00:00, 95.38ba/s]\n"
     ]
    },
    {
     "data": {
      "text/plain": [
       "68472"
      ]
     },
     "execution_count": 30,
     "metadata": {},
     "output_type": "execute_result"
    }
   ],
   "source": [
    "#test_dataset.to_csv('test.csv', index=False)\n",
    "test_dataset.remove_columns(['embeddings_A', 'embeddings_B']).to_csv(\"test_contra_no_emb.csv\", index=False)"
   ]
  },
  {
   "cell_type": "markdown",
   "metadata": {},
   "source": [
    "## Analysis"
   ]
  },
  {
   "cell_type": "code",
   "execution_count": 31,
   "metadata": {},
   "outputs": [],
   "source": [
    "import pandas as pd\n",
    "\n",
    "df = pd.read_csv(\"./test_contra_no_emb.csv\")"
   ]
  },
  {
   "cell_type": "code",
   "execution_count": 32,
   "metadata": {},
   "outputs": [
    {
     "data": {
      "text/plain": [
       "count    100.000000\n",
       "mean       0.865752\n",
       "std        0.045463\n",
       "min        0.754061\n",
       "25%        0.829604\n",
       "50%        0.865126\n",
       "75%        0.901161\n",
       "max        0.985207\n",
       "Name: sim, dtype: float64"
      ]
     },
     "execution_count": 32,
     "metadata": {},
     "output_type": "execute_result"
    }
   ],
   "source": [
    "df[\"sim\"].describe()"
   ]
  },
  {
   "cell_type": "code",
   "execution_count": 34,
   "metadata": {},
   "outputs": [
    {
     "data": {
      "image/png": "[encoded data removed]",
      "text/plain": [
       "<Figure size 800x600 with 1 Axes>"
      ]
     },
     "metadata": {},
     "output_type": "display_data"
    }
   ],
   "source": [
    "import matplotlib.pyplot as plt\n",
    "\n",
    "# Create a figure and axis\n",
    "fig, ax = plt.subplots(figsize=(8, 6))\n",
    "\n",
    "# Plot the histogram\n",
    "ax.hist(df['sim'], bins=20, edgecolor='black')\n",
    "\n",
    "# Set labels and title\n",
    "ax.set_xlabel('Cosine Similarity')\n",
    "ax.set_ylabel('Frequency')\n",
    "ax.set_title('Distribution of Cosine Similarity')\n",
    "\n",
    "# Adjust the x-axis limits to zoom in on the range of values\n",
    "#ax.set_xlim(0.95, 1.0)\n",
    "\n",
    "# Add grid lines\n",
    "ax.grid(True)\n",
    "\n",
    "# Display the plot\n",
    "plt.tight_layout()\n",
    "plt.show()"
   ]
  },
  {
   "cell_type": "code",
   "execution_count": 35,
   "metadata": {},
   "outputs": [
    {
     "data": {
      "image/png": "[encoded data removed]",
      "text/plain": [
       "<Figure size 800x600 with 1 Axes>"
      ]
     },
     "metadata": {},
     "output_type": "display_data"
    }
   ],
   "source": [
    "# Assuming you have the BLEU scores in a DataFrame column called 'bleu'\n",
    "bleu_scores = df['bleu']\n",
    "\n",
    "# Create a histogram of the BLEU scores\n",
    "plt.figure(figsize=(8, 6))\n",
    "plt.hist(bleu_scores, bins=20, edgecolor='black', alpha=0.7)\n",
    "\n",
    "# Set labels and title\n",
    "plt.xlabel('BLEU Score')\n",
    "plt.ylabel('Frequency')\n",
    "plt.title('Distribution of BLEU Scores')\n",
    "\n",
    "# Add grid lines\n",
    "plt.grid(True, linestyle='--', alpha=0.5)\n",
    "\n",
    "# Display the plot\n",
    "plt.tight_layout()\n",
    "plt.show()"
   ]
  },
  {
   "cell_type": "code",
   "execution_count": 36,
   "metadata": {},
   "outputs": [
    {
     "data": {
      "text/plain": [
       "count     1.000000e+02\n",
       "mean      1.818064e-01\n",
       "std       1.630327e-01\n",
       "min      3.851114e-155\n",
       "25%       7.848437e-02\n",
       "50%       1.477573e-01\n",
       "75%       2.700531e-01\n",
       "max       8.645707e-01\n",
       "Name: bleu, dtype: float64"
      ]
     },
     "execution_count": 36,
     "metadata": {},
     "output_type": "execute_result"
    }
   ],
   "source": [
    "df[\"bleu\"].describe()"
   ]
  }
 ],
 "metadata": {
  "kernelspec": {
   "display_name": ".venv",
   "language": "python",
   "name": "python3"
  },
  "language_info": {
   "codemirror_mode": {
    "name": "ipython",
    "version": 3
   },
   "file_extension": ".py",
   "mimetype": "text/x-python",
   "name": "python",
   "nbconvert_exporter": "python",
   "pygments_lexer": "ipython3",
   "version": "3.10.14"
  }
 },
 "nbformat": 4,
 "nbformat_minor": 2
}
